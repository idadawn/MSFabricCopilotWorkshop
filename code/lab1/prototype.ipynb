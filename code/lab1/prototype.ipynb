{
 "cells": [
  {
   "cell_type": "markdown",
   "metadata": {},
   "source": [
    "# **🧪  Lab 1 - Prototype**\n",
    "\n",
    "This notebook is about building a simple Microsoft Fabric-based Copilot application\n",
    "\n",
    "### **🔥 Prerequirement**\n",
    "\n",
    "1. [Visual Studio Code](https://code.visualstudio.com/) or [GitHub Codespaces](https://github.com/features/codespaces)\n",
    "2. [Azure](https://azure.com/free) or [Azure for Student](https://aka.ms/studentgetazure)\n",
    "3. Apply [Azure OpenAI Service](https://customervoice.microsoft.com/Pages/ResponsePage.aspx?id=v4j5cvGGr0GRqy180BHbR7en2Ais5pxKtso_Pz4b1_xUOFA5Qk1UWDRBMjg0WFhPMkIzTzhKQ1dWNyQlQCN0PWcu)\n",
    "4. [.NET 7+](https://dotnet.microsoft.com/en-us/)\n",
    "5. [Docker](https://www.docker.com/)\n",
    "6. [Qdrant](https://qdrant.tech/)\n",
    "\n",
    "### **📚 Intro**\n",
    "\n",
    "We use Embeddings to inject relevant knowledge into the model of Azure OpenAI Services through the vector database. This is how we infuse magical skills. Learn from the following"
   ]
  },
  {
   "cell_type": "markdown",
   "metadata": {},
   "source": [
    "Introduce the related library of Semantic Kernel, and introduce the support of Semantic Kernel for Qdrant vector database"
   ]
  },
  {
   "cell_type": "code",
   "execution_count": null,
   "metadata": {
    "dotnet_interactive": {
     "language": "csharp"
    },
    "polyglot_notebook": {
     "kernelName": "csharp"
    },
    "vscode": {
     "languageId": "polyglot-notebook"
    }
   },
   "outputs": [],
   "source": [
    "#r \"nuget: Microsoft.SemanticKernel, *-*\"\n",
    "#r \"nuget: Microsoft.SemanticKernel.Connectors.Memory.Qdrant, *-*\""
   ]
  },
  {
   "cell_type": "code",
   "execution_count": null,
   "metadata": {
    "dotnet_interactive": {
     "language": "csharp"
    },
    "polyglot_notebook": {
     "kernelName": "csharp"
    },
    "vscode": {
     "languageId": "polyglot-notebook"
    }
   },
   "outputs": [],
   "source": [
    "using Microsoft.SemanticKernel;\n",
    "using Microsoft.SemanticKernel.Connectors.Memory.Qdrant;\n",
    "using Microsoft.SemanticKernel.Memory;"
   ]
  },
  {
   "cell_type": "code",
   "execution_count": null,
   "metadata": {
    "dotnet_interactive": {
     "language": "csharp"
    },
    "polyglot_notebook": {
     "kernelName": "csharp"
    },
    "vscode": {
     "languageId": "polyglot-notebook"
    }
   },
   "outputs": [],
   "source": [
    "using System;\n",
    "using System.Collections.Generic;\n",
    "using System.Diagnostics;\n",
    "using System.IO;\n",
    "using System.Net.Http;\n",
    "using System.Text.Json;\n",
    "using System.Threading.Tasks;"
   ]
  },
  {
   "cell_type": "markdown",
   "metadata": {},
   "source": [
    "A kernel in Semantic Kernel (SK) is an orchestrator of user problems. The kernel combines skills, memory and connectors to realize the user's intelligent expectations. In addition to configuring basic Azure OpenAI / OpenAI basic link strings / models / parameters / vector database, it can also pair related skills based on user requirements, integrate skills to form workflows, etc. \n",
    "\n",
    "The following example is to bind the Sementic Kernel to the gpt-3.5-turbo-16k and text-embedding-ada-002 models in Azure OpenAI Service, and connect to the locally assumed Qdrant vector database.\n",
    "\n",
    "**Note**\n",
    "\n",
    "*1. You need to bind the model of Azure OpenAI Service, which corresponds to the model you deployed in Azure AI Studio*\n",
    "\n",
    "*2. Azure OpenAI Service Endpoint and Key need to be obtained in Azure Portal*\n",
    "\n",
    "*3. The dimension of Azure OpenAI Service Embeddings is 1536, which is the default value, and you need to start the Qdrant service before this, please read [here](https://qdrant.tech/)*\n",
    "\n"
   ]
  },
  {
   "cell_type": "code",
   "execution_count": null,
   "metadata": {
    "dotnet_interactive": {
     "language": "csharp"
    },
    "polyglot_notebook": {
     "kernelName": "csharp"
    },
    "vscode": {
     "languageId": "polyglot-notebook"
    }
   },
   "outputs": [],
   "source": [
    "IKernel kernel = Kernel.Builder\n",
    "            .WithAzureChatCompletionService(\"Your Deplpyment model name\", \"Azure OpenAI Endpoint\", \"Azure OpenAI Key\")\n",
    "            .WithAzureTextEmbeddingGenerationService(\"Your Deplpyment model name\", \"Azure OpenAI Endpoint\", \"Azure OpenAI Key\")\n",
    "            .WithQdrantMemoryStore(\"http://localhost:6333\", 1536)\n",
    "            .Build();"
   ]
  },
  {
   "cell_type": "markdown",
   "metadata": {},
   "source": [
    "# **🔑 Key: Chunkings**\n",
    "\n",
    "With the expansion of model tokens by Azure OpenAI Service, chunking is no longer a problem, but we need to organize knowledge points is also an important step, Microsoft Fabric documents, headers and footers can be removed"
   ]
  },
  {
   "cell_type": "code",
   "execution_count": null,
   "metadata": {
    "dotnet_interactive": {
     "language": "csharp"
    },
    "polyglot_notebook": {
     "kernelName": "csharp"
    },
    "vscode": {
     "languageId": "polyglot-notebook"
    }
   },
   "outputs": [],
   "source": [
    "string markdownFile = @\"../docs/microsoft-fabric-overview.md\";\n",
    "// string markdownFile = @\"../docs/data-science-overview.md\";\n",
    "// string markdownFile = @\"../docs/data-engineering-overview.md\";\n",
    "// string markdownFile = @\".../docs/data-factory-overview.md\";\n",
    "// string markdownFile = @\"../docs/data-warehousing.md\";\n",
    "// string markdownFile = @\"../docs/fabric-terminology.md\";\n",
    "// string markdownFile = @\"../docs/end-to-end-tutorials.md\";\n"
   ]
  },
  {
   "cell_type": "code",
   "execution_count": null,
   "metadata": {
    "dotnet_interactive": {
     "language": "csharp"
    },
    "polyglot_notebook": {
     "kernelName": "csharp"
    },
    "vscode": {
     "languageId": "polyglot-notebook"
    }
   },
   "outputs": [],
   "source": [
    "string learnContent = File.ReadAllText(markdownFile);"
   ]
  },
  {
   "cell_type": "code",
   "execution_count": null,
   "metadata": {
    "dotnet_interactive": {
     "language": "csharp"
    },
    "polyglot_notebook": {
     "kernelName": "csharp"
    },
    "vscode": {
     "languageId": "polyglot-notebook"
    }
   },
   "outputs": [],
   "source": [
    "int content_start = learnContent.IndexOf(\"# \");\n",
    "int content_end = learnContent.IndexOf(\"## Next steps\");\n",
    "learnContent = learnContent.Substring(content_start,content_end - content_start) ;  "
   ]
  },
  {
   "cell_type": "code",
   "execution_count": null,
   "metadata": {
    "dotnet_interactive": {
     "language": "csharp"
    },
    "polyglot_notebook": {
     "kernelName": "csharp"
    },
    "vscode": {
     "languageId": "polyglot-notebook"
    }
   },
   "outputs": [],
   "source": [
    "int chunkSize = learnContent.Length / 600;"
   ]
  },
  {
   "cell_type": "code",
   "execution_count": null,
   "metadata": {
    "dotnet_interactive": {
     "language": "csharp"
    },
    "polyglot_notebook": {
     "kernelName": "csharp"
    },
    "vscode": {
     "languageId": "polyglot-notebook"
    }
   },
   "outputs": [],
   "source": [
    "var skillsDirectory = Path.Combine(System.IO.Directory.GetCurrentDirectory(), \"..\", \"skills\");"
   ]
  },
  {
   "cell_type": "markdown",
   "metadata": {},
   "source": [
    "***Import Skill into the kernel, and inject magic through Prompt to extract relevant knowledge points***"
   ]
  },
  {
   "cell_type": "code",
   "execution_count": null,
   "metadata": {
    "dotnet_interactive": {
     "language": "csharp"
    },
    "polyglot_notebook": {
     "kernelName": "csharp"
    },
    "vscode": {
     "languageId": "polyglot-notebook"
    }
   },
   "outputs": [],
   "source": [
    "var read_skill = kernel.ImportSemanticSkillFromDirectory(skillsDirectory, \"ReadSkill\");"
   ]
  },
  {
   "cell_type": "code",
   "execution_count": null,
   "metadata": {
    "dotnet_interactive": {
     "language": "csharp"
    },
    "polyglot_notebook": {
     "kernelName": "csharp"
    },
    "vscode": {
     "languageId": "polyglot-notebook"
    }
   },
   "outputs": [],
   "source": [
    "public class KBContent\n",
    "{\n",
    "    public string KB { get; set; }\n",
    "    public string Content { get; set; }\n",
    "}\n"
   ]
  },
  {
   "cell_type": "code",
   "execution_count": null,
   "metadata": {
    "dotnet_interactive": {
     "language": "csharp"
    },
    "polyglot_notebook": {
     "kernelName": "csharp"
    },
    "vscode": {
     "languageId": "polyglot-notebook"
    }
   },
   "outputs": [],
   "source": [
    "public async Task<string> GetKBContent(IKernel kernel,string content)\n",
    "{\n",
    "    var kbContent = await kernel.RunAsync(content, read_skill[\"KB\"]);\n",
    "\n",
    "    return kbContent.ToString();\n",
    "}"
   ]
  },
  {
   "cell_type": "code",
   "execution_count": null,
   "metadata": {
    "dotnet_interactive": {
     "language": "csharp"
    },
    "polyglot_notebook": {
     "kernelName": "csharp"
    },
    "vscode": {
     "languageId": "polyglot-notebook"
    }
   },
   "outputs": [],
   "source": [
    "bool checkStr = false;\n",
    "string kbContent = \"\";\n",
    "var kbList = new List<KBContent>();"
   ]
  },
  {
   "cell_type": "code",
   "execution_count": null,
   "metadata": {
    "dotnet_interactive": {
     "language": "csharp"
    },
    "polyglot_notebook": {
     "kernelName": "csharp"
    },
    "vscode": {
     "languageId": "polyglot-notebook"
    }
   },
   "outputs": [],
   "source": [
    "kbContent = await GetKBContent(kernel,learnContent.Replace(\"\\\\\",\"\\\\\\\\\").Replace(\"\\\"\",\"\\'\").Replace(\":::\",\"\").Replace(\"\\n\",\"\"));"
   ]
  },
  {
   "cell_type": "code",
   "execution_count": null,
   "metadata": {
    "dotnet_interactive": {
     "language": "csharp"
    },
    "polyglot_notebook": {
     "kernelName": "csharp"
    },
    "vscode": {
     "languageId": "polyglot-notebook"
    }
   },
   "outputs": [],
   "source": [
    "string setKBContent = kbContent.Replace(\"[OUTPUT]\",\"\").Replace(\"[END OUTPUT]\",\"\").Trim();"
   ]
  },
  {
   "cell_type": "markdown",
   "metadata": {},
   "source": [
    "Through Prompt, we extract the content of knowledge points into JSON format, which is convenient for us to import into the relevant vector database"
   ]
  },
  {
   "cell_type": "code",
   "execution_count": null,
   "metadata": {
    "dotnet_interactive": {
     "language": "csharp"
    },
    "polyglot_notebook": {
     "kernelName": "csharp"
    },
    "vscode": {
     "languageId": "polyglot-notebook"
    }
   },
   "outputs": [],
   "source": [
    "setKBContent"
   ]
  },
  {
   "cell_type": "code",
   "execution_count": null,
   "metadata": {
    "dotnet_interactive": {
     "language": "csharp"
    },
    "polyglot_notebook": {
     "kernelName": "csharp"
    },
    "vscode": {
     "languageId": "polyglot-notebook"
    }
   },
   "outputs": [],
   "source": [
    "var jsonKBContent = System.Text.Json.JsonSerializer.Deserialize<List<KBContent>>(setKBContent);"
   ]
  },
  {
   "cell_type": "code",
   "execution_count": null,
   "metadata": {
    "dotnet_interactive": {
     "language": "csharp"
    },
    "polyglot_notebook": {
     "kernelName": "csharp"
    },
    "vscode": {
     "languageId": "polyglot-notebook"
    }
   },
   "outputs": [],
   "source": [
    "foreach(var item in jsonKBContent)\n",
    "{\n",
    "    kbList.Add(item);\n",
    "}"
   ]
  },
  {
   "cell_type": "markdown",
   "metadata": {},
   "source": [
    "The token is added or we don’t need to split the content, but sometimes there are unexpected situations, you need to intercept the content, segment and interact with the model"
   ]
  },
  {
   "cell_type": "code",
   "execution_count": null,
   "metadata": {
    "dotnet_interactive": {
     "language": "csharp"
    },
    "polyglot_notebook": {
     "kernelName": "csharp"
    },
    "vscode": {
     "languageId": "polyglot-notebook"
    }
   },
   "outputs": [],
   "source": [
    "// for(int i = 0; i < chunkSize+1; i++)\n",
    "// {\n",
    "                 \n",
    "//     if(checkStr)\n",
    "//     {\n",
    "//                //Console.WriteLine(strTmp);\n",
    "//         kbContent = await GetKBContent(kernel,learnContent.Substring(i*600).Replace(\"\\\\\",\"\\\\\\\\\").Replace(\"\\\"\",\"\\'\").Replace(\":::\",\"\"));\n",
    "//     }\n",
    "//     else\n",
    "//     {\n",
    "//         // strTmp = saveContent.Substring(i*600);\n",
    "//                //Console.WriteLine(strTmp.Substring(0,600));\n",
    "//         kbContent = await GetKBContent(kernel,learnContent.Substring(i*600,600).Replace(\"\\\\\",\"\\\\\\\\\").Replace(\"\\\"\",\"\\'\").Replace(\":::\",\"\"));\n",
    "//     }\n",
    "\n",
    "\n",
    "//     string setKBContent = kbContent.Replace(\"[OUTPUT]\",\"\").Replace(\"[END OUTPUT]\",\"\").Trim();\n",
    "\n",
    "\n",
    "//     Console.WriteLine(setKBContent);\n",
    "\n",
    "\n",
    "//     var jsonKBContent = System.Text.Json.JsonSerializer.Deserialize<List<KBContent>>(setKBContent);\n",
    "\n",
    "//     foreach(var item in jsonKBContent)\n",
    "//     {\n",
    "//         kbList.Add(item);\n",
    "//     }\n",
    "\n",
    "//     if(i!=chunkSize)\n",
    "//     {\n",
    "\n",
    "//         string strTmp = learnContent.Substring((i+1)*600);\n",
    "\n",
    "//         if(strTmp.Length <= 600)\n",
    "//             checkStr = true;\n",
    "//         else\n",
    "//             checkStr = false;\n",
    "//     }\n",
    "\n",
    "// }"
   ]
  },
  {
   "cell_type": "code",
   "execution_count": null,
   "metadata": {
    "dotnet_interactive": {
     "language": "csharp"
    },
    "polyglot_notebook": {
     "kernelName": "csharp"
    },
    "vscode": {
     "languageId": "polyglot-notebook"
    }
   },
   "outputs": [],
   "source": [
    "kbList"
   ]
  },
  {
   "cell_type": "code",
   "execution_count": null,
   "metadata": {
    "dotnet_interactive": {
     "language": "csharp"
    },
    "polyglot_notebook": {
     "kernelName": "csharp"
    },
    "vscode": {
     "languageId": "polyglot-notebook"
    }
   },
   "outputs": [],
   "source": [
    "var vectorData =  new List<KBContent>();\n",
    "\n",
    "int stepsCount = 0;\n",
    "\n",
    "foreach(var item in kbList)\n",
    "{\n",
    "    if(item.KB!=\"\")\n",
    "    {\n",
    "        vectorData.Add(item);\n",
    "    }\n",
    "    else\n",
    "    {\n",
    "        if(vectorData.Count!=0)\n",
    "        {\n",
    "            vectorData[vectorData.Count-1].Content += item.Content;\n",
    "        }\n",
    "    }\n",
    "\n",
    "}"
   ]
  },
  {
   "cell_type": "code",
   "execution_count": null,
   "metadata": {
    "dotnet_interactive": {
     "language": "csharp"
    },
    "polyglot_notebook": {
     "kernelName": "csharp"
    },
    "vscode": {
     "languageId": "polyglot-notebook"
    }
   },
   "outputs": [],
   "source": [
    "vectorData"
   ]
  },
  {
   "cell_type": "markdown",
   "metadata": {},
   "source": [
    "## **🔑 Key: VectorDB**\n",
    "\n",
    "We need to store knowledge in the vector database and query through the vector database. Here is a simple example"
   ]
  },
  {
   "cell_type": "code",
   "execution_count": null,
   "metadata": {
    "dotnet_interactive": {
     "language": "csharp"
    },
    "polyglot_notebook": {
     "kernelName": "csharp"
    },
    "vscode": {
     "languageId": "polyglot-notebook"
    }
   },
   "outputs": [],
   "source": [
    "string conceptCollectionName = \"fbkb-concept\";"
   ]
  },
  {
   "cell_type": "code",
   "execution_count": null,
   "metadata": {
    "dotnet_interactive": {
     "language": "csharp"
    },
    "polyglot_notebook": {
     "kernelName": "csharp"
    },
    "vscode": {
     "languageId": "polyglot-notebook"
    }
   },
   "outputs": [],
   "source": [
    "int vectorCount = 1000;\n",
    "\n",
    "foreach(var item in vectorData)\n",
    "{\n",
    "  await kernel.Memory.SaveInformationAsync(conceptCollectionName, id: \"id\"+vectorCount.ToString(), text: item.KB+\" \"+ item.Content);\n",
    "  vectorCount++;\n",
    "}"
   ]
  },
  {
   "cell_type": "code",
   "execution_count": null,
   "metadata": {
    "dotnet_interactive": {
     "language": "csharp"
    },
    "polyglot_notebook": {
     "kernelName": "csharp"
    },
    "vscode": {
     "languageId": "polyglot-notebook"
    }
   },
   "outputs": [],
   "source": [
    "string questionText = \"What is Mircorosft Fabric ?\"; "
   ]
  },
  {
   "cell_type": "markdown",
   "metadata": {},
   "source": [
    "The key to vector search is to find approximate matching vector content"
   ]
  },
  {
   "cell_type": "code",
   "execution_count": null,
   "metadata": {
    "dotnet_interactive": {
     "language": "csharp"
    },
    "polyglot_notebook": {
     "kernelName": "csharp"
    },
    "vscode": {
     "languageId": "polyglot-notebook"
    }
   },
   "outputs": [],
   "source": [
    "var searchResults =  kernel.Memory.SearchAsync(conceptCollectionName, questionText, limit: 1, minRelevanceScore: 0.7);"
   ]
  },
  {
   "cell_type": "code",
   "execution_count": null,
   "metadata": {
    "dotnet_interactive": {
     "language": "csharp"
    },
    "polyglot_notebook": {
     "kernelName": "csharp"
    },
    "vscode": {
     "languageId": "polyglot-notebook"
    }
   },
   "outputs": [],
   "source": [
    "\n",
    "string result = \"\";\n",
    "await foreach (var item in searchResults)\n",
    "{\n",
    "    result = item.Metadata.Text;\n",
    "    Console.WriteLine(item.Metadata.Text + \" : \" + item.Relevance);\n",
    "}"
   ]
  },
  {
   "cell_type": "markdown",
   "metadata": {},
   "source": [
    "## **Summary**\n",
    "\n",
    "We can inject content knowledge into LLM by combining Chunking and vector database. What we need to consider is how to combine the content with the model for optimization. So what needs to be more is the content of Prompt。 Learn more about [link](https://learn.microsoft.com/en-us/semantic-kernel/prompt-engineering/)"
   ]
  }
 ],
 "metadata": {
  "language_info": {
   "name": "python"
  },
  "orig_nbformat": 4
 },
 "nbformat": 4,
 "nbformat_minor": 2
}
